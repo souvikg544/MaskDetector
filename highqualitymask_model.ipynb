{
 "cells": [
  {
   "cell_type": "code",
   "execution_count": 1,
   "id": "2ead4371",
   "metadata": {
    "execution": {
     "iopub.execute_input": "2021-10-23T16:55:15.187829Z",
     "iopub.status.busy": "2021-10-23T16:55:15.186224Z",
     "iopub.status.idle": "2021-10-23T16:55:20.242950Z",
     "shell.execute_reply": "2021-10-23T16:55:20.243393Z",
     "shell.execute_reply.started": "2021-10-23T16:53:58.389378Z"
    },
    "papermill": {
     "duration": 5.075477,
     "end_time": "2021-10-23T16:55:20.243674",
     "exception": false,
     "start_time": "2021-10-23T16:55:15.168197",
     "status": "completed"
    },
    "tags": []
   },
   "outputs": [],
   "source": [
    "import tensorflow as tf\n",
    "import matplotlib.pyplot as plt\n",
    "import numpy as np\n",
    "import pandas as pd\n",
    "from tensorflow.keras import models,layers"
   ]
  },
  {
   "cell_type": "code",
   "execution_count": 2,
   "id": "48787728",
   "metadata": {
    "execution": {
     "iopub.execute_input": "2021-10-23T16:55:20.265827Z",
     "iopub.status.busy": "2021-10-23T16:55:20.265069Z",
     "iopub.status.idle": "2021-10-23T16:55:20.267504Z",
     "shell.execute_reply": "2021-10-23T16:55:20.267094Z",
     "shell.execute_reply.started": "2021-10-23T16:54:06.249247Z"
    },
    "papermill": {
     "duration": 0.014438,
     "end_time": "2021-10-23T16:55:20.267612",
     "exception": false,
     "start_time": "2021-10-23T16:55:20.253174",
     "status": "completed"
    },
    "tags": []
   },
   "outputs": [],
   "source": [
    "IMAGE_SIZE = 256\n",
    "EPOCHS=15\n",
    "\n",
    "BATCH_SIZE = 32"
   ]
  },
  {
   "cell_type": "code",
   "execution_count": 3,
   "id": "692f81f9",
   "metadata": {
    "execution": {
     "iopub.execute_input": "2021-10-23T16:55:20.288319Z",
     "iopub.status.busy": "2021-10-23T16:55:20.287816Z",
     "iopub.status.idle": "2021-10-23T16:55:34.699973Z",
     "shell.execute_reply": "2021-10-23T16:55:34.699500Z",
     "shell.execute_reply.started": "2021-10-23T16:54:12.866065Z"
    },
    "papermill": {
     "duration": 14.424009,
     "end_time": "2021-10-23T16:55:34.700108",
     "exception": false,
     "start_time": "2021-10-23T16:55:20.276099",
     "status": "completed"
    },
    "tags": []
   },
   "outputs": [
    {
     "name": "stdout",
     "output_type": "stream",
     "text": [
      "Found 20000 files belonging to 2 classes.\n"
     ]
    },
    {
     "name": "stderr",
     "output_type": "stream",
     "text": [
      "2021-10-23 16:55:32.345657: I tensorflow/stream_executor/cuda/cuda_gpu_executor.cc:937] successful NUMA node read from SysFS had negative value (-1), but there must be at least one NUMA node, so returning NUMA node zero\n",
      "2021-10-23 16:55:32.435459: I tensorflow/stream_executor/cuda/cuda_gpu_executor.cc:937] successful NUMA node read from SysFS had negative value (-1), but there must be at least one NUMA node, so returning NUMA node zero\n",
      "2021-10-23 16:55:32.436132: I tensorflow/stream_executor/cuda/cuda_gpu_executor.cc:937] successful NUMA node read from SysFS had negative value (-1), but there must be at least one NUMA node, so returning NUMA node zero\n",
      "2021-10-23 16:55:32.447684: I tensorflow/core/platform/cpu_feature_guard.cc:142] This TensorFlow binary is optimized with oneAPI Deep Neural Network Library (oneDNN) to use the following CPU instructions in performance-critical operations:  AVX2 AVX512F FMA\n",
      "To enable them in other operations, rebuild TensorFlow with the appropriate compiler flags.\n",
      "2021-10-23 16:55:32.448616: I tensorflow/stream_executor/cuda/cuda_gpu_executor.cc:937] successful NUMA node read from SysFS had negative value (-1), but there must be at least one NUMA node, so returning NUMA node zero\n",
      "2021-10-23 16:55:32.449422: I tensorflow/stream_executor/cuda/cuda_gpu_executor.cc:937] successful NUMA node read from SysFS had negative value (-1), but there must be at least one NUMA node, so returning NUMA node zero\n",
      "2021-10-23 16:55:32.450088: I tensorflow/stream_executor/cuda/cuda_gpu_executor.cc:937] successful NUMA node read from SysFS had negative value (-1), but there must be at least one NUMA node, so returning NUMA node zero\n",
      "2021-10-23 16:55:34.315964: I tensorflow/stream_executor/cuda/cuda_gpu_executor.cc:937] successful NUMA node read from SysFS had negative value (-1), but there must be at least one NUMA node, so returning NUMA node zero\n",
      "2021-10-23 16:55:34.316732: I tensorflow/stream_executor/cuda/cuda_gpu_executor.cc:937] successful NUMA node read from SysFS had negative value (-1), but there must be at least one NUMA node, so returning NUMA node zero\n",
      "2021-10-23 16:55:34.317395: I tensorflow/stream_executor/cuda/cuda_gpu_executor.cc:937] successful NUMA node read from SysFS had negative value (-1), but there must be at least one NUMA node, so returning NUMA node zero\n",
      "2021-10-23 16:55:34.317986: I tensorflow/core/common_runtime/gpu/gpu_device.cc:1510] Created device /job:localhost/replica:0/task:0/device:GPU:0 with 15403 MB memory:  -> device: 0, name: Tesla P100-PCIE-16GB, pci bus id: 0000:00:04.0, compute capability: 6.0\n"
     ]
    }
   ],
   "source": [
    "df=tf.keras.preprocessing.image_dataset_from_directory(\n",
    "\"/kaggle/input/face-mask-lite-dataset\",\n",
    "shuffle=True,\n",
    "image_size=(IMAGE_SIZE,IMAGE_SIZE),\n",
    "batch_size=BATCH_SIZE\n",
    ")"
   ]
  },
  {
   "cell_type": "code",
   "execution_count": 4,
   "id": "13329992",
   "metadata": {
    "execution": {
     "iopub.execute_input": "2021-10-23T16:55:34.726785Z",
     "iopub.status.busy": "2021-10-23T16:55:34.726148Z",
     "iopub.status.idle": "2021-10-23T16:55:34.729112Z",
     "shell.execute_reply": "2021-10-23T16:55:34.729533Z",
     "shell.execute_reply.started": "2021-10-23T16:19:02.03748Z"
    },
    "papermill": {
     "duration": 0.018975,
     "end_time": "2021-10-23T16:55:34.729659",
     "exception": false,
     "start_time": "2021-10-23T16:55:34.710684",
     "status": "completed"
    },
    "tags": []
   },
   "outputs": [
    {
     "data": {
      "text/plain": [
       "['with_mask', 'without_mask']"
      ]
     },
     "execution_count": 4,
     "metadata": {},
     "output_type": "execute_result"
    }
   ],
   "source": [
    "cn=df.class_names\n",
    "cn"
   ]
  },
  {
   "cell_type": "code",
   "execution_count": 5,
   "id": "0b72e2bf",
   "metadata": {
    "execution": {
     "iopub.execute_input": "2021-10-23T16:55:34.754231Z",
     "iopub.status.busy": "2021-10-23T16:55:34.753449Z",
     "iopub.status.idle": "2021-10-23T16:55:34.755448Z",
     "shell.execute_reply": "2021-10-23T16:55:34.755883Z",
     "shell.execute_reply.started": "2021-10-23T16:19:06.196477Z"
    },
    "papermill": {
     "duration": 0.01704,
     "end_time": "2021-10-23T16:55:34.756016",
     "exception": false,
     "start_time": "2021-10-23T16:55:34.738976",
     "status": "completed"
    },
    "tags": []
   },
   "outputs": [],
   "source": [
    "def get_dataset_partitions_tf(ds, train_split=0.7, val_split=0.1, test_split=0.2):\n",
    "    #assert (train_split + test_split + val_split) == 1\n",
    "    \n",
    "    ds_size = len(ds)\n",
    "    \n",
    "    train_size = int(train_split * ds_size)\n",
    "    val_size = int(val_split * ds_size)\n",
    "    \n",
    "    train_ds = ds.take(train_size)    \n",
    "    val_ds = ds.skip(train_size).take(val_size)\n",
    "    test_ds = ds.skip(train_size).skip(val_size)\n",
    "    \n",
    "    return train_ds, val_ds, test_ds"
   ]
  },
  {
   "cell_type": "code",
   "execution_count": 6,
   "id": "73bdddbe",
   "metadata": {
    "execution": {
     "iopub.execute_input": "2021-10-23T16:55:34.779189Z",
     "iopub.status.busy": "2021-10-23T16:55:34.778468Z",
     "iopub.status.idle": "2021-10-23T16:55:34.783438Z",
     "shell.execute_reply": "2021-10-23T16:55:34.783874Z",
     "shell.execute_reply.started": "2021-10-23T16:19:16.551828Z"
    },
    "papermill": {
     "duration": 0.018415,
     "end_time": "2021-10-23T16:55:34.784000",
     "exception": false,
     "start_time": "2021-10-23T16:55:34.765585",
     "status": "completed"
    },
    "tags": []
   },
   "outputs": [],
   "source": [
    "train_ds, val_ds, test_ds = get_dataset_partitions_tf(df)"
   ]
  },
  {
   "cell_type": "code",
   "execution_count": 7,
   "id": "b2efda55",
   "metadata": {
    "execution": {
     "iopub.execute_input": "2021-10-23T16:55:34.806745Z",
     "iopub.status.busy": "2021-10-23T16:55:34.806088Z",
     "iopub.status.idle": "2021-10-23T16:55:34.828001Z",
     "shell.execute_reply": "2021-10-23T16:55:34.828393Z",
     "shell.execute_reply.started": "2021-10-23T16:23:09.781224Z"
    },
    "papermill": {
     "duration": 0.035247,
     "end_time": "2021-10-23T16:55:34.828519",
     "exception": false,
     "start_time": "2021-10-23T16:55:34.793272",
     "status": "completed"
    },
    "tags": []
   },
   "outputs": [],
   "source": [
    "resize_and_rescale = tf.keras.Sequential([\n",
    "  layers.experimental.preprocessing.Resizing(IMAGE_SIZE, IMAGE_SIZE),\n",
    "  layers.experimental.preprocessing.Rescaling(1./255),\n",
    "])"
   ]
  },
  {
   "cell_type": "code",
   "execution_count": 8,
   "id": "c5411d55",
   "metadata": {
    "execution": {
     "iopub.execute_input": "2021-10-23T16:55:34.866390Z",
     "iopub.status.busy": "2021-10-23T16:55:34.865558Z",
     "iopub.status.idle": "2021-10-23T16:55:34.945271Z",
     "shell.execute_reply": "2021-10-23T16:55:34.944773Z",
     "shell.execute_reply.started": "2021-10-23T16:23:30.696163Z"
    },
    "papermill": {
     "duration": 0.107131,
     "end_time": "2021-10-23T16:55:34.945403",
     "exception": false,
     "start_time": "2021-10-23T16:55:34.838272",
     "status": "completed"
    },
    "tags": []
   },
   "outputs": [],
   "source": [
    "in_shape=(32,IMAGE_SIZE,IMAGE_SIZE,3)\n",
    "model1=models.Sequential(\n",
    "[\n",
    "    resize_and_rescale,\n",
    "    layers.Conv2D(32,  kernel_size = (3,3), activation='relu'),\n",
    "    layers.MaxPooling2D((2, 2)),\n",
    "    layers.Conv2D(64,  kernel_size = (3,3), activation='relu'),\n",
    "    layers.MaxPooling2D((2, 2)),\n",
    "    layers.Conv2D(128,  kernel_size = (3,3), activation='relu'),\n",
    "    layers.MaxPooling2D((2, 2)),\n",
    "    layers.Conv2D(256,  kernel_size = (3,3), activation='relu'),\n",
    "    layers.MaxPooling2D((2, 2)),\n",
    "    layers.Flatten(),\n",
    "    layers.Dense(64, activation='relu'),\n",
    "    layers.Dense(32, activation='relu'),\n",
    "    layers.Dense(2, activation='softmax'),\n",
    "     \n",
    "]\n",
    ")\n",
    "model1.build(input_shape=in_shape)"
   ]
  },
  {
   "cell_type": "code",
   "execution_count": 9,
   "id": "9cf19316",
   "metadata": {
    "execution": {
     "iopub.execute_input": "2021-10-23T16:55:34.970972Z",
     "iopub.status.busy": "2021-10-23T16:55:34.970216Z",
     "iopub.status.idle": "2021-10-23T16:55:34.980385Z",
     "shell.execute_reply": "2021-10-23T16:55:34.979391Z",
     "shell.execute_reply.started": "2021-10-23T16:24:00.895977Z"
    },
    "papermill": {
     "duration": 0.024852,
     "end_time": "2021-10-23T16:55:34.980510",
     "exception": false,
     "start_time": "2021-10-23T16:55:34.955658",
     "status": "completed"
    },
    "tags": []
   },
   "outputs": [],
   "source": [
    "model1.compile(\n",
    "    optimizer='adam',\n",
    "    loss=tf.keras.losses.SparseCategoricalCrossentropy(from_logits=False),\n",
    "    metrics=['accuracy']\n",
    ")"
   ]
  },
  {
   "cell_type": "code",
   "execution_count": 10,
   "id": "2548c4a7",
   "metadata": {
    "execution": {
     "iopub.execute_input": "2021-10-23T16:55:35.003320Z",
     "iopub.status.busy": "2021-10-23T16:55:35.002397Z",
     "iopub.status.idle": "2021-10-23T18:31:09.723147Z",
     "shell.execute_reply": "2021-10-23T18:31:09.723617Z"
    },
    "papermill": {
     "duration": 5734.733781,
     "end_time": "2021-10-23T18:31:09.723798",
     "exception": false,
     "start_time": "2021-10-23T16:55:34.990017",
     "status": "completed"
    },
    "tags": []
   },
   "outputs": [
    {
     "name": "stdout",
     "output_type": "stream",
     "text": [
      "Epoch 1/5\n"
     ]
    },
    {
     "name": "stderr",
     "output_type": "stream",
     "text": [
      "2021-10-23 16:55:35.610017: I tensorflow/compiler/mlir/mlir_graph_optimization_pass.cc:185] None of the MLIR Optimization Passes are enabled (registered 2)\n",
      "2021-10-23 16:55:45.761884: I tensorflow/core/kernels/data/shuffle_dataset_op.cc:175] Filling up shuffle buffer (this may take a while): 245 of 256\n",
      "2021-10-23 16:55:46.213208: I tensorflow/core/kernels/data/shuffle_dataset_op.cc:228] Shuffle buffer filled.\n",
      "2021-10-23 16:55:48.125306: I tensorflow/stream_executor/cuda/cuda_dnn.cc:369] Loaded cuDNN version 8005\n"
     ]
    },
    {
     "name": "stdout",
     "output_type": "stream",
     "text": [
      "437/437 [==============================] - 1134s 3s/step - loss: 0.0440 - accuracy: 0.9847 - val_loss: 5.9301e-04 - val_accuracy: 0.9995\n",
      "Epoch 2/5\n"
     ]
    },
    {
     "name": "stderr",
     "output_type": "stream",
     "text": [
      "2021-10-23 17:15:07.644667: I tensorflow/core/kernels/data/shuffle_dataset_op.cc:175] Filling up shuffle buffer (this may take a while): 249 of 256\n",
      "2021-10-23 17:15:07.863612: I tensorflow/core/kernels/data/shuffle_dataset_op.cc:228] Shuffle buffer filled.\n"
     ]
    },
    {
     "name": "stdout",
     "output_type": "stream",
     "text": [
      "437/437 [==============================] - 1107s 3s/step - loss: 7.0542e-07 - accuracy: 1.0000 - val_loss: 2.7432e-07 - val_accuracy: 1.0000\n",
      "Epoch 3/5\n",
      "437/437 [==============================] - 1130s 3s/step - loss: 3.5514e-08 - accuracy: 1.0000 - val_loss: 8.8202e-08 - val_accuracy: 1.0000\n",
      "Epoch 4/5\n",
      "437/437 [==============================] - ETA: 0s - loss: 1.0784e-08 - accuracy: 1.0000"
     ]
    },
    {
     "name": "stderr",
     "output_type": "stream",
     "text": [
      "2021-10-23 18:02:06.895016: I tensorflow/core/kernels/data/shuffle_dataset_op.cc:175] Filling up shuffle buffer (this may take a while): 253 of 256\n",
      "2021-10-23 18:02:07.023961: I tensorflow/core/kernels/data/shuffle_dataset_op.cc:228] Shuffle buffer filled.\n"
     ]
    },
    {
     "name": "stdout",
     "output_type": "stream",
     "text": [
      "437/437 [==============================] - 1204s 3s/step - loss: 1.0784e-08 - accuracy: 1.0000 - val_loss: 4.5844e-08 - val_accuracy: 1.0000\n",
      "Epoch 5/5\n",
      "437/437 [==============================] - 1130s 3s/step - loss: 5.4217e-09 - accuracy: 1.0000 - val_loss: 3.1785e-08 - val_accuracy: 1.0000\n"
     ]
    }
   ],
   "source": [
    "history = model1.fit(\n",
    "    train_ds,\n",
    "    batch_size=32,\n",
    "    validation_data=val_ds,\n",
    "    verbose=1,\n",
    "    epochs=5,\n",
    ")"
   ]
  },
  {
   "cell_type": "code",
   "execution_count": 11,
   "id": "88851f69",
   "metadata": {
    "execution": {
     "iopub.execute_input": "2021-10-23T18:31:10.956808Z",
     "iopub.status.busy": "2021-10-23T18:31:10.952239Z",
     "iopub.status.idle": "2021-10-23T18:43:25.028289Z",
     "shell.execute_reply": "2021-10-23T18:43:25.028734Z"
    },
    "papermill": {
     "duration": 734.724636,
     "end_time": "2021-10-23T18:43:25.028917",
     "exception": false,
     "start_time": "2021-10-23T18:31:10.304281",
     "status": "completed"
    },
    "tags": []
   },
   "outputs": [
    {
     "name": "stderr",
     "output_type": "stream",
     "text": [
      "2021-10-23 18:31:20.989243: I tensorflow/core/kernels/data/shuffle_dataset_op.cc:175] Filling up shuffle buffer (this may take a while): 255 of 256\n",
      "2021-10-23 18:31:21.003954: I tensorflow/core/kernels/data/shuffle_dataset_op.cc:228] Shuffle buffer filled.\n"
     ]
    },
    {
     "name": "stdout",
     "output_type": "stream",
     "text": [
      "126/126 [==============================] - 734s 1s/step - loss: 3.2242e-07 - accuracy: 1.0000\n"
     ]
    }
   ],
   "source": [
    "scores=model1.evaluate(test_ds)"
   ]
  },
  {
   "cell_type": "code",
   "execution_count": 12,
   "id": "908dd8ef",
   "metadata": {
    "execution": {
     "iopub.execute_input": "2021-10-23T18:43:26.270619Z",
     "iopub.status.busy": "2021-10-23T18:43:26.269948Z",
     "iopub.status.idle": "2021-10-23T18:43:28.453126Z",
     "shell.execute_reply": "2021-10-23T18:43:28.452584Z"
    },
    "papermill": {
     "duration": 2.811897,
     "end_time": "2021-10-23T18:43:28.453251",
     "exception": false,
     "start_time": "2021-10-23T18:43:25.641354",
     "status": "completed"
    },
    "tags": []
   },
   "outputs": [
    {
     "name": "stderr",
     "output_type": "stream",
     "text": [
      "2021-10-23 18:43:26.881199: W tensorflow/python/util/util.cc:348] Sets are not currently considered sequences, but this may change in the future, so consider avoiding using them.\n"
     ]
    }
   ],
   "source": [
    "model1.save(\"maskmodel4.h5\")\n",
    "model1.save(\"maskmodel4\")"
   ]
  }
 ],
 "metadata": {
  "kernelspec": {
   "display_name": "Python 3",
   "language": "python",
   "name": "python3"
  },
  "language_info": {
   "codemirror_mode": {
    "name": "ipython",
    "version": 3
   },
   "file_extension": ".py",
   "mimetype": "text/x-python",
   "name": "python",
   "nbconvert_exporter": "python",
   "pygments_lexer": "ipython3",
   "version": "3.7.10"
  },
  "papermill": {
   "default_parameters": {},
   "duration": 6504.409085,
   "end_time": "2021-10-23T18:43:32.034455",
   "environment_variables": {},
   "exception": null,
   "input_path": "__notebook__.ipynb",
   "output_path": "__notebook__.ipynb",
   "parameters": {},
   "start_time": "2021-10-23T16:55:07.625370",
   "version": "2.3.3"
  }
 },
 "nbformat": 4,
 "nbformat_minor": 5
}
